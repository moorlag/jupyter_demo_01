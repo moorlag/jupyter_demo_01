{
 "cells": [
  {
   "cell_type": "markdown",
   "id": "39919ccf",
   "metadata": {},
   "source": [
    "# Hello World!\n",
    "\n",
    "De eerste **echte** superpower is tekst op het scherm te printen. \n",
    "Met Python kan dit met het onderstaande commando. \n",
    "![The San Juan Mountains are beautiful!](https://images.unsplash.com/photo-1607743386830-f198fbd7f9c4?ixlib=rb-1.2.1&ixid=MnwxMjA3fDB8MHxwaG90by1wYWdlfHx8fGVufDB8fHx8&auto=format&fit=crop&w=2592&q=80 =100x200)\n",
    "\n"
   ]
  },
  {
   "cell_type": "code",
   "execution_count": 1,
   "id": "c2fe2b79",
   "metadata": {},
   "outputs": [
    {
     "name": "stdout",
     "output_type": "stream",
     "text": [
      "Hello world!\n"
     ]
    }
   ],
   "source": [
    "print(\"Hello world!\")"
   ]
  },
  {
   "cell_type": "markdown",
   "id": "33f9edc4",
   "metadata": {},
   "source": [
    "je kunt een variabele gebruiken om iets in op te slaan. In dit geval is de variabele **msg**"
   ]
  },
  {
   "cell_type": "code",
   "execution_count": 2,
   "id": "4166a600",
   "metadata": {},
   "outputs": [
    {
     "name": "stdout",
     "output_type": "stream",
     "text": [
      "Hartje Python\n",
      "Leren programmeren is alsof je een nieuwe superpower leert!\n"
     ]
    }
   ],
   "source": [
    "msg = \"Hartje Python\"\n",
    "print(msg)\n",
    "\n",
    "msg = \"Leren programmeren is alsof je een nieuwe superpower leert!\"\n",
    "print(msg)"
   ]
  },
  {
   "cell_type": "markdown",
   "id": "fe9bdf42",
   "metadata": {},
   "source": [
    "Zie je dat regel 1 iets anders print dan regel 2? Dat komt omdat de waarde van de variabele veranderd wordt. "
   ]
  },
  {
   "cell_type": "markdown",
   "id": "419e14d6",
   "metadata": {},
   "source": [
    "Je kunt ook een variabele gebruiken zoals in de tekst hieronder."
   ]
  },
  {
   "cell_type": "code",
   "execution_count": 4,
   "id": "51dae482",
   "metadata": {},
   "outputs": [
    {
     "name": "stdout",
     "output_type": "stream",
     "text": [
      "Mijn favoriete getal is 42.\n"
     ]
    }
   ],
   "source": [
    "fav_num = 42\n",
    "msg = \"Mijn favoriete getal is \" + str(fav_num) + \".\"\n",
    "\n",
    "print(msg)"
   ]
  },
  {
   "cell_type": "markdown",
   "id": "2012725d",
   "metadata": {},
   "source": [
    "Zie je \"Mijn favoriete getal is \"? Valt je het op dat er een spatie volgt na **is**? Als je dat niet doet komt 42 vast te zitten aan is. "
   ]
  },
  {
   "cell_type": "code",
   "execution_count": null,
   "id": "0ca349c1",
   "metadata": {},
   "outputs": [],
   "source": []
  }
 ],
 "metadata": {
  "kernelspec": {
   "display_name": "Python 3 (ipykernel)",
   "language": "python",
   "name": "python3"
  },
  "language_info": {
   "codemirror_mode": {
    "name": "ipython",
    "version": 3
   },
   "file_extension": ".py",
   "mimetype": "text/x-python",
   "name": "python",
   "nbconvert_exporter": "python",
   "pygments_lexer": "ipython3",
   "version": "3.9.7"
  }
 },
 "nbformat": 4,
 "nbformat_minor": 5
}
